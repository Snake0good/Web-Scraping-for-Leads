{
 "cells": [
  {
   "cell_type": "markdown",
   "metadata": {},
   "source": [
    "# *SIMPLE*  🐍 Python 🐍 webcraping to find LEADS!"
   ]
  },
  {
   "cell_type": "markdown",
   "metadata": {},
   "source": [
    "## 1. Google Search and Place website into a Excel File "
   ]
  },
  {
   "cell_type": "code",
   "execution_count": 169,
   "metadata": {},
   "outputs": [],
   "source": [
    "#pip install what you need\n",
    "\n",
    "# I needed googlesearch\n",
    "\n",
    "#pip install googlsearch"
   ]
  },
  {
   "cell_type": "code",
   "execution_count": 177,
   "metadata": {},
   "outputs": [],
   "source": [
    "# import the necessary libraries\n",
    "\n",
    "# these 2 first \n",
    "from googlesearch import search\n",
    "from openpyxl import load_workbook\n",
    "\n",
    "\n",
    "# this will be next\n",
    "import webbrowser "
   ]
  },
  {
   "cell_type": "markdown",
   "metadata": {},
   "source": [
    "### Enter the location and busines type you're searching"
   ]
  },
  {
   "cell_type": "code",
   "execution_count": 178,
   "metadata": {},
   "outputs": [],
   "source": [
    "location = \"Lancaster\" \n",
    "business = \"pizza\""
   ]
  },
  {
   "cell_type": "markdown",
   "metadata": {},
   "source": [
    "# 2. Create an Excel WorkBook and save it in the same folder as this program"
   ]
  },
  {
   "cell_type": "code",
   "execution_count": 179,
   "metadata": {},
   "outputs": [],
   "source": [
    "# workbook name that's already created in the file\n",
    "wb = load_workbook(\"myExcelWorkbook.xlsx\")\n",
    "\n",
    "# first sheet\n",
    "sheet = wb.worksheets[0]\n",
    "\n",
    "\n",
    "# you'll enter the Company Name manually when you find a lead\n",
    "sheet.cell(row=1, column=1).value=\"Company Name\"\n",
    "sheet.cell(row=1, column=2).value=\"Website\" \n",
    "    \n",
    "# start on second column (we only need websites) \n",
    "j=2\n",
    "\n",
    "# the bread and butter of the scraping\n",
    "# stop --> the number of entries you want!  stop=30  ->  30 websites\n",
    "for result in search(f'{location}+{business}', stop=30, pause=2):\n",
    "    sheet.cell(row=j, column=2).value= result\n",
    "    \n",
    "    #again, you'll enter the name manually when you find a lead\n",
    "    #sheet.cell(row=j, column=1).value=companyName[j]  \n",
    "    \n",
    "    j+=1     \n",
    "\n",
    "# save the workbook\n",
    "wb.save(\"myExcelWorkbook.xlsx\")"
   ]
  },
  {
   "cell_type": "markdown",
   "metadata": {},
   "source": [
    "## 3. Take a look at the Excel Spreadsheet\n",
    "### !!!!! and delete similar entries !!!!!"
   ]
  },
  {
   "cell_type": "code",
   "execution_count": 180,
   "metadata": {},
   "outputs": [],
   "source": [
    "# reload the workbook after deleting \"similar entries\"\n",
    "wb = load_workbook(\"myExcelWorkbook.xlsx\")\n",
    "sheet = wb.worksheets[0]"
   ]
  },
  {
   "cell_type": "code",
   "execution_count": 181,
   "metadata": {},
   "outputs": [],
   "source": [
    "for i in range(0, sheet.max_row):\n",
    "    for col in sheet.iter_cols(2, sheet.max_column):\n",
    "        # print to take a quick look\n",
    "        #print(col[i].value)\n",
    "        \n",
    "        # this will open up all new tabs from your spreadsheet\n",
    "        webbrowser.open_new_tab(col[i].value)"
   ]
  },
  {
   "cell_type": "code",
   "execution_count": null,
   "metadata": {},
   "outputs": [],
   "source": []
  }
 ],
 "metadata": {
  "kernelspec": {
   "display_name": "Python 3",
   "language": "python",
   "name": "python3"
  },
  "language_info": {
   "codemirror_mode": {
    "name": "ipython",
    "version": 3
   },
   "file_extension": ".py",
   "mimetype": "text/x-python",
   "name": "python",
   "nbconvert_exporter": "python",
   "pygments_lexer": "ipython3",
   "version": "3.7.4"
  }
 },
 "nbformat": 4,
 "nbformat_minor": 2
}
